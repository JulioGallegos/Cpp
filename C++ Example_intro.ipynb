{
 "cells": [
  {
   "cell_type": "markdown",
   "metadata": {},
   "source": [
    "# Un curso corto sobre el uso de Cling - interprere interactivo C++"
   ]
  },
  {
   "cell_type": "markdown",
   "metadata": {},
   "source": [
    "## Comandos\n",
    "\n",
    "Cling entiende algunos meta-comando que no son válidos en C++. Estos comandos son útiles para indicarle a cling algunas tareas administrativas a realizar como:\n",
    "\n",
    "##### .x test.cpp - cargar un archivo(si el archivo define un void test() este será ejecutado)\n",
    "##### .L libname - cargar una libreria o archivo (.cpp)\n",
    "##### .x filename.cxx - cargar filename y llama void filename() si está definido\n",
    "##### .I path - añade un path\n",
    "##### .printAST - muestra un árbol de sintaxis abstracto después de cada entidad procesada\n",
    "##### .q - sale de cling\n",
    "##### .help - muestra una pequeña descripción\n"
   ]
  },
  {
   "cell_type": "code",
   "execution_count": null,
   "metadata": {
    "collapsed": true
   },
   "outputs": [],
   "source": [
    "#include <iostream>\n",
    "using namespace std;\n",
    "\n",
    "cout<<\"Hola UVG, Interactive C++ les saluda!\"<<endl;"
   ]
  },
  {
   "cell_type": "markdown",
   "metadata": {},
   "source": [
    "#### Tip 1: Definir una función por celda, o dará errores"
   ]
  },
  {
   "cell_type": "code",
   "execution_count": null,
   "metadata": {
    "collapsed": true
   },
   "outputs": [],
   "source": [
    "void test()\n",
    "{\n",
    "    std::cout <<\"solamente un test\"<<endl;\n",
    "}"
   ]
  },
  {
   "cell_type": "code",
   "execution_count": null,
   "metadata": {
    "collapsed": true
   },
   "outputs": [],
   "source": [
    "test()"
   ]
  },
  {
   "cell_type": "code",
   "execution_count": null,
   "metadata": {
    "collapsed": true
   },
   "outputs": [],
   "source": [
    "void test2() \n",
    "{\n",
    "    std::cout <<\"just a test2\"<<endl;\n",
    "}\n",
    "void test3() \n",
    "{\n",
    "    std::cout <<\"just a test3\"<<endl;\n",
    "}"
   ]
  },
  {
   "cell_type": "markdown",
   "metadata": {},
   "source": [
    "#### Tip 2: definición de clases múltiples puede ser en la misma celda"
   ]
  },
  {
   "cell_type": "code",
   "execution_count": null,
   "metadata": {},
   "outputs": [],
   "source": [
    "#include <iostream>\n",
    "using namespace std;\n",
    "\n",
    "class B1\n",
    "{\n",
    "public:\n",
    "    B1(int i)\n",
    "    {\n",
    "        cout << \"B1 \" << i << endl;\n",
    "    }\n",
    "};\n",
    "\n",
    "class B2\n",
    "{\n",
    "public:\n",
    "    B2(int i)\n",
    "    {\n",
    "        cout << \"B2 \" << i << endl;\n",
    "    }\n",
    "};\n",
    "\n",
    "class B3\n",
    "{\n",
    "public:\n",
    "    B3()\n",
    "    {\n",
    "        cout << \"B3 \" << endl;\n",
    "    }\n",
    "};\n",
    "\n",
    "class Derived : public B2,  public B1, virtual public B3\n",
    "{\n",
    "public:\n",
    "    Derived(int a, int b, int c, int d, int e): B1(a), b2(d), b1(c), B2(b)\n",
    "    {\n",
    "        m = e;\n",
    "        cout << \"Derived\"<<endl;\n",
    "    }\n",
    "protected:\n",
    "    B1 b1;\n",
    "    B2 b2;\n",
    "    B3 b3;\n",
    "    int m;\n",
    "};"
   ]
  },
  {
   "cell_type": "code",
   "execution_count": null,
   "metadata": {},
   "outputs": [],
   "source": [
    "Derived test(1, 2, 3, 4, 5);"
   ]
  },
  {
   "cell_type": "markdown",
   "metadata": {},
   "source": [
    "#### Tip 3: Cálculos"
   ]
  },
  {
   "cell_type": "code",
   "execution_count": null,
   "metadata": {},
   "outputs": [],
   "source": [
    "int a = 100;"
   ]
  },
  {
   "cell_type": "code",
   "execution_count": null,
   "metadata": {},
   "outputs": [],
   "source": [
    "double b = 9.0;"
   ]
  },
  {
   "cell_type": "code",
   "execution_count": null,
   "metadata": {},
   "outputs": [],
   "source": [
    "a+b;"
   ]
  },
  {
   "cell_type": "markdown",
   "metadata": {},
   "source": [
    "## C++ Keywords"
   ]
  },
  {
   "cell_type": "markdown",
   "metadata": {},
   "source": [
    "alignas, alignof, and, and_eq, asm, auto, bitand, bitor, bool, break, case, catch, char, char16_t, char32_t, class, compl, const, constexpr, const_cast, continue, decltype, default, delete, do, double, dynamic_cast, else, enum, explicit, export, extern, false, float, for, friend, goto, if, inline, int, long, mutable, namespace, new, noexcept, not, not_eq, nullptr, operator, or, or_eq, private, protected, public, register, reinterpret_cast, return, short, signed, sizeof, static, static_assert, static_cast, struct, switch, template, this, thread_local, throw, true, try, typedef, typeid, typename, union, unsigned, using, virtual, void, volatile, wchar_t, while, xor, xor_eq"
   ]
  },
  {
   "cell_type": "markdown",
   "metadata": {},
   "source": [
    "## C++ Types"
   ]
  },
  {
   "cell_type": "markdown",
   "metadata": {},
   "source": [
    "character type: char; char16_t; char32_t; wchar_t\n",
    "\n",
    "Integer types (signed): signed char; short; int; long; long long;\n",
    "\n",
    "Integer types (unsigned): unsigned char; unsigned; unsigned long; unsignde long long\n",
    "\n",
    "Floating-point types: float; double; long double\n",
    "\n",
    "Boolean types: bool\n",
    "\n",
    "Void type: void\n",
    "\n",
    "Null pointer: decltype(nullptr)"
   ]
  },
  {
   "cell_type": "code",
   "execution_count": null,
   "metadata": {},
   "outputs": [],
   "source": [
    "int x = 0;\n",
    "decltype(x)y ;"
   ]
  },
  {
   "cell_type": "code",
   "execution_count": null,
   "metadata": {},
   "outputs": [],
   "source": [
    "int z = 0;\n",
    "auto zz = z;"
   ]
  },
  {
   "cell_type": "code",
   "execution_count": 2,
   "metadata": {},
   "outputs": [
    {
     "data": {
      "text/plain": []
     },
     "execution_count": 2,
     "metadata": {},
     "output_type": "execute_result"
    }
   ],
   "source": [
    "// break loop example\n",
    "#include <iostream>\n",
    "using namespace std;\n",
    "  "
   ]
  },
  {
   "cell_type": "code",
   "execution_count": null,
   "metadata": {},
   "outputs": [],
   "source": [
    "for (int n=10; n>0; n--)\n",
    "  {\n",
    "    cout << n << \", \";\n",
    "    if (n==3)\n",
    "    {\n",
    "      cout << \"countdown aborted!\";\n",
    "      break;\n",
    "    }\n",
    "  }"
   ]
  },
  {
   "cell_type": "code",
   "execution_count": 3,
   "metadata": {},
   "outputs": [
    {
     "name": "stdout",
     "output_type": "stream",
     "text": [
      "[U][n][i][v][e][r][s][i][d][a][d][ ][d][e][l][ ][V][a][l][l][e][ ][d][e][ ][G][u][a][t][e][m][a][l][a][!]\n"
     ]
    },
    {
     "data": {
      "text/plain": [
       "(std::basic_ostream<char, std::char_traits<char> > &) @0x7fffb4a21660\n"
      ]
     },
     "execution_count": 3,
     "metadata": {},
     "output_type": "execute_result"
    }
   ],
   "source": [
    "string str {\"Universidad del Valle de Guatemala!\"};\n",
    "  for (char c : str)\n",
    "  {\n",
    "    cout << \"[\" << c << \"]\";\n",
    "  }\n",
    "  cout << '\\n';"
   ]
  },
  {
   "cell_type": "code",
   "execution_count": null,
   "metadata": {
    "collapsed": true
   },
   "outputs": [],
   "source": []
  }
 ],
 "metadata": {
  "kernelspec": {
   "display_name": "C++11",
   "language": "",
   "name": "cling-cpp11"
  },
  "language_info": {
   "codemirror_mode": "c++",
   "file_extension": ".c++",
   "mimetype": "text/x-c++src",
   "name": "c++"
  }
 },
 "nbformat": 4,
 "nbformat_minor": 2
}
