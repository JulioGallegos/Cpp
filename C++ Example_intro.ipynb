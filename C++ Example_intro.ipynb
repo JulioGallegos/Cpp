{
 "cells": [
  {
   "cell_type": "markdown",
   "metadata": {},
   "source": [
    "# Un curso corto sobre el uso de Cling - interprere interactivo C++"
   ]
  },
  {
   "cell_type": "markdown",
   "metadata": {},
   "source": [
    "## Comandos\n",
    "\n",
    "Cling entiende algunos meta-comando que no son válidos en C++. Estos comandos son útiles para indicarle a cling algunas tareas administrativas a realizar como:\n",
    "\n",
    "##### .x test.cpp - cargar un archivo(si el archivo define un void test() este será ejecutado)\n",
    "##### .L libname - cargar una libreria o archivo (.cpp)\n",
    "##### .x filename.cxx - cargar filename y llama void filename() si está definido\n",
    "##### .I path - añade un path\n",
    "##### .printAST - muestra un árbol de sintaxis abstracto después de cada entidad procesada\n",
    "##### .q - sale de cling\n",
    "##### .help - muestra una pequeña descripción\n"
   ]
  },
  {
   "cell_type": "code",
   "execution_count": null,
   "metadata": {},
   "outputs": [],
   "source": [
    "#include <iostream>\n",
    "using namespace std;\n",
    "\n",
    "cout<<\"Hola UVG, Interactive C++ les saluda!\"<<endl;"
   ]
  },
  {
   "cell_type": "markdown",
   "metadata": {},
   "source": [
    "#### Tip 1: Definir una función por celda, o dará errores"
   ]
  },
  {
   "cell_type": "code",
   "execution_count": null,
   "metadata": {},
   "outputs": [],
   "source": [
    "void test()\n",
    "{\n",
    "    std::cout <<\"solamente un test\"<<endl;\n",
    "}"
   ]
  },
  {
   "cell_type": "code",
   "execution_count": null,
   "metadata": {},
   "outputs": [],
   "source": [
    "test()"
   ]
  },
  {
   "cell_type": "code",
   "execution_count": null,
   "metadata": {},
   "outputs": [],
   "source": [
    "void test2() \n",
    "{\n",
    "    std::cout <<\"just a test2\"<<endl;\n",
    "}\n",
    "void test3() \n",
    "{\n",
    "    std::cout <<\"just a test3\"<<endl;\n",
    "}"
   ]
  },
  {
   "cell_type": "markdown",
   "metadata": {},
   "source": [
    "#### Tip 2: definición de clases múltiples puede ser en la misma celda"
   ]
  },
  {
   "cell_type": "code",
   "execution_count": 1,
   "metadata": {},
   "outputs": [
    {
     "data": {
      "text/plain": []
     },
     "execution_count": 1,
     "metadata": {},
     "output_type": "execute_result"
    }
   ],
   "source": [
    "#include <iostream>\n",
    "using namespace std;\n",
    "\n",
    "class B1\n",
    "{\n",
    "public:\n",
    "    B1(int i)\n",
    "    {\n",
    "        cout << \"B1 \" << i << endl;\n",
    "    }\n",
    "};\n",
    "\n",
    "class B2\n",
    "{\n",
    "public:\n",
    "    B2(int i)\n",
    "    {\n",
    "        cout << \"B2 \" << i << endl;\n",
    "    }\n",
    "};\n",
    "\n",
    "class B3\n",
    "{\n",
    "public:\n",
    "    B3()\n",
    "    {\n",
    "        cout << \"B3 \" << endl;\n",
    "    }\n",
    "};\n",
    "\n",
    "class Derived : public B2,  public B1, virtual public B3\n",
    "{\n",
    "public:\n",
    "    Derived(int a, int b, int c, int d, int e): B1(a), b2(d), b1(c), B2(b)\n",
    "    {\n",
    "        m = e;\n",
    "        cout << \"Derived\"<<endl;\n",
    "    }\n",
    "protected:\n",
    "    B1 b1;\n",
    "    B2 b2;\n",
    "    B3 b3;\n",
    "    int m;\n",
    "};"
   ]
  },
  {
   "cell_type": "code",
   "execution_count": 2,
   "metadata": {},
   "outputs": [
    {
     "name": "stdout",
     "output_type": "stream",
     "text": [
      "B3 \n",
      "B2 2\n",
      "B1 1\n",
      "B1 3\n",
      "B2 4\n",
      "B3 \n",
      "Derived\n"
     ]
    },
    {
     "data": {
      "text/plain": []
     },
     "execution_count": 2,
     "metadata": {},
     "output_type": "execute_result"
    }
   ],
   "source": [
    "Derived test(1, 2, 3, 4, 5);"
   ]
  },
  {
   "cell_type": "markdown",
   "metadata": {},
   "source": [
    "#### Tip 3: Cálculos"
   ]
  },
  {
   "cell_type": "code",
   "execution_count": 4,
   "metadata": {},
   "outputs": [
    {
     "data": {
      "text/plain": []
     },
     "execution_count": 4,
     "metadata": {},
     "output_type": "execute_result"
    }
   ],
   "source": [
    "int a = 100;"
   ]
  },
  {
   "cell_type": "code",
   "execution_count": 5,
   "metadata": {},
   "outputs": [
    {
     "data": {
      "text/plain": []
     },
     "execution_count": 5,
     "metadata": {},
     "output_type": "execute_result"
    }
   ],
   "source": [
    "double b = 9.0;"
   ]
  },
  {
   "cell_type": "code",
   "execution_count": 6,
   "metadata": {},
   "outputs": [
    {
     "data": {
      "text/plain": [
       "(double) 109.000000\n"
      ]
     },
     "execution_count": 6,
     "metadata": {},
     "output_type": "execute_result"
    }
   ],
   "source": [
    "a+b;"
   ]
  }
 ],
 "metadata": {
  "kernelspec": {
   "display_name": "C++11",
   "language": "",
   "name": "cling-cpp11"
  },
  "language_info": {
   "codemirror_mode": "c++",
   "file_extension": ".c++",
   "mimetype": "text/x-c++src",
   "name": "c++"
  }
 },
 "nbformat": 4,
 "nbformat_minor": 2
}
